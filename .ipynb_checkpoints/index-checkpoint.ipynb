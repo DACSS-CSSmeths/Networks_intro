{
 "cells": [
  {
   "cell_type": "markdown",
   "metadata": {},
   "source": [
    "<center><img src=\"https://github.com/DACSS-CSSmeths/guidelines/blob/main/pics/small_logo_ccs_meths.jpg?raw=true\" width=\"700\"></center>\n",
    "\n",
    "\n",
    "\n",
    "\n",
    "\n",
    "\n",
    "\n",
    "# Graphs\n",
    "\n",
    "Let me show you a graph (from [wikipedia](https://en.wikipedia.org/wiki/Graph_(discrete_mathematics))):\n",
    "\n",
    "<img src=\"https://upload.wikimedia.org/wikipedia/commons/thumb/5/5b/6n-graf.svg/440px-6n-graf.svg.png\"/>\n",
    "\n",
    "As you can see, it is simply a representation of two sets:\n",
    "\n",
    "1. A set of **vertices** or **nodes**. In the image above you see the nodes _1_, _2_, _3_, _4_, _5_, and _6_.\n",
    "2. A set of **edges** or **links**. In the image above, the links are connecting pairs of nodes. \n",
    "\n",
    "Altogether, a _graph_ reveals some _relationship_ among the _nodes_. The graph structure will allow us to explore and understand that relationship. \n",
    "\n",
    "## Creating Graphs\n",
    "\n",
    "The graph above can be represented computationally in Python using **networkx**:"
   ]
  },
  {
   "cell_type": "code",
   "execution_count": null,
   "metadata": {},
   "outputs": [],
   "source": [
    "import networkx as nx\n",
    "\n",
    "# create graph\n",
    "G = nx.Graph()\n",
    "\n",
    "# the list of edges, edges as tuples\n",
    "listOfEdges=[(1, 2), (1, 5),(2,5),(2,3),(3,4),(4,5),(4,6)]\n",
    "\n",
    "# create nodes and edges\n",
    "G.add_edges_from(listOfEdges)"
   ]
  },
  {
   "cell_type": "markdown",
   "metadata": {},
   "source": [
    "The las code chunk created your first graph!"
   ]
  },
  {
   "cell_type": "markdown",
   "metadata": {},
   "source": [
    "## Basic Elements"
   ]
  },
  {
   "cell_type": "markdown",
   "metadata": {},
   "source": [
    "**G** is the  object:"
   ]
  },
  {
   "cell_type": "code",
   "execution_count": null,
   "metadata": {},
   "outputs": [],
   "source": [
    "#you don't see much...just what it is:\n",
    "G"
   ]
  },
  {
   "cell_type": "code",
   "execution_count": null,
   "metadata": {},
   "outputs": [],
   "source": [
    "# You see nodes and their attributes (nothing yet)\n",
    "G.nodes.data()"
   ]
  },
  {
   "cell_type": "code",
   "execution_count": null,
   "metadata": {},
   "outputs": [],
   "source": [
    "# You just see node ids\n",
    "G.nodes()"
   ]
  },
  {
   "cell_type": "code",
   "execution_count": null,
   "metadata": {},
   "outputs": [],
   "source": [
    "# You see edges\n",
    "G.edges()"
   ]
  },
  {
   "cell_type": "code",
   "execution_count": null,
   "metadata": {},
   "outputs": [],
   "source": [
    "# You see edges and their attributes (nothing yet)\n",
    "G.edges.data()"
   ]
  },
  {
   "cell_type": "markdown",
   "metadata": {},
   "source": [
    "## Drawing"
   ]
  },
  {
   "cell_type": "markdown",
   "metadata": {},
   "source": [
    "As you can see, the graph is created by adding pairs of nodes. Once you complete that stage, you can draw the graph:"
   ]
  },
  {
   "cell_type": "code",
   "execution_count": null,
   "metadata": {},
   "outputs": [],
   "source": [
    "# draw\n",
    "nx.draw(G=G,\n",
    "        with_labels=True,\n",
    "        node_color='yellow',\n",
    "        edgecolors='black')"
   ]
  },
  {
   "cell_type": "markdown",
   "metadata": {},
   "source": [
    "\n",
    "\n",
    "## Directed Graphs\n",
    "\n",
    "The graph we created and drew represented an **undirected** graph, that is, the relationships between a pair of nodes are **symmetric**: the relationships can not represent direction because they are _inherently mutual_ between the nodes. For example, the relationship *to be a neighbor of* is symmetric.\n",
    "\n",
    "The following graph is **directed** (also from wikipedia):\n",
    "\n",
    "<img src=\"https://upload.wikimedia.org/wikipedia/commons/thumb/2/23/Directed_graph_no_background.svg/340px-Directed_graph_no_background.svg.png\"/>\n"
   ]
  },
  {
   "cell_type": "markdown",
   "metadata": {},
   "source": [
    "You can create this directed graph this way:"
   ]
  },
  {
   "cell_type": "code",
   "execution_count": null,
   "metadata": {},
   "outputs": [],
   "source": [
    "# create DIRECTED graph\n",
    "dG = nx.DiGraph()\n",
    "\n",
    "# create nodes and edges\n",
    "dG.add_edges_from([(1, 2), (1, 3),(3,2),(3,4),(4,3)])\n",
    "\n",
    "# drawing\n",
    "nx.draw(dG,with_labels=True,node_color='white',edgecolors='black')"
   ]
  },
  {
   "cell_type": "markdown",
   "metadata": {},
   "source": [
    "Directed links are also called **arcs**. Notice the _DiGraph_ created represents an **asymmetric** relationship: the relationship a node has with another node does not need to be mutual, but could be (see nodes _3_ and _4_). If the arcs represent **cares for someone**, it shows that the feeling is not reciprocal for most cases in this graph. If a relationship is not mutual, and can only be in one direction, it is called **anti symmetric** (be \"a parent of\" belongs to this kind).\n",
    "\n",
    "## Attributes\n",
    "\n",
    "Nodes can have attributes. This is how you add attributes manually:"
   ]
  },
  {
   "cell_type": "code",
   "execution_count": null,
   "metadata": {},
   "outputs": [],
   "source": [
    "# adding attributes, just female/male for simplicity\n",
    "dG.nodes[1][\"sex\"]='male'\n",
    "dG.nodes[2][\"sex\"]='female'\n",
    "dG.nodes[3][\"sex\"]='female'\n",
    "dG.nodes[4][\"sex\"]='male'"
   ]
  },
  {
   "cell_type": "code",
   "execution_count": null,
   "metadata": {},
   "outputs": [],
   "source": [
    "# seeing attributes\n",
    "nx.get_node_attributes(dG, \"sex\")"
   ]
  },
  {
   "cell_type": "markdown",
   "metadata": {},
   "source": [
    "Notice the above structure is a Python dictionary, {'key':'value'}.\n",
    "Python dictionaries are important for network data management. Here, for example, the node is the key, and the attribute is the value. Knowing how to **build** a dictionary is needed to add attributes via coding, instead of manually as we did above.\n",
    "\n",
    "Above, we had few nodes, so we added an attribute node by node. Let me set the color of the node based on _sex_, this time NOT manually:\n",
    "\n",
    "* using **items()**: This will help you create a dictionary (dict):"
   ]
  },
  {
   "cell_type": "code",
   "execution_count": null,
   "metadata": {},
   "outputs": [],
   "source": [
    "# requesting attribute as \"items\"\n",
    "nx.get_node_attributes(dG, \"sex\").items()"
   ]
  },
  {
   "cell_type": "markdown",
   "metadata": {},
   "source": [
    "* create a dictionary using **comprehensions**:"
   ]
  },
  {
   "cell_type": "code",
   "execution_count": null,
   "metadata": {},
   "outputs": [],
   "source": [
    "# assigning color condtionally to sex\n",
    "# write 'red' as value for  'node', if the 'sex' of 'node' is 'female', else, write 'blue'\n",
    "# do this for every pair 'node','sex' in 'nx.get_node_attributes(dG, \"sex\").items()'\n",
    "{node:'red' if sex=='female' else 'blue' for node,sex in nx.get_node_attributes(dG, \"sex\").items()}"
   ]
  },
  {
   "cell_type": "markdown",
   "metadata": {},
   "source": [
    "And that is how we built a dict.\n",
    "\n",
    "* Now, use the dict to add the attribute:"
   ]
  },
  {
   "cell_type": "code",
   "execution_count": null,
   "metadata": {},
   "outputs": [],
   "source": [
    "# dict saved a 'colorDict'\n",
    "colorNodes={node:'red' if sex=='female' else 'blue' for node,sex in nx.get_node_attributes(dG, \"sex\").items()}\n",
    "\n",
    "# use 'colorNodes' to create attribute \"color\"\n",
    "nx.set_node_attributes(dG, colorNodes, \"color\")\n",
    "\n",
    "# the attribute is now in the node data:\n",
    "dG.nodes.data()"
   ]
  },
  {
   "cell_type": "markdown",
   "metadata": {},
   "source": [
    "You can also recover the attributes like this:"
   ]
  },
  {
   "cell_type": "code",
   "execution_count": null,
   "metadata": {},
   "outputs": [],
   "source": [
    "# since\n",
    "nx.get_node_attributes(dG, \"color\").values()"
   ]
  },
  {
   "cell_type": "markdown",
   "metadata": {},
   "source": [
    "This last code can serve when drawing:"
   ]
  },
  {
   "cell_type": "code",
   "execution_count": null,
   "metadata": {},
   "outputs": [],
   "source": [
    "# using node attributes\n",
    "\n",
    "nx.draw(dG,\n",
    "        with_labels=True,\n",
    "        node_color=nx.get_node_attributes(dG, \"color\").values())"
   ]
  },
  {
   "cell_type": "markdown",
   "metadata": {},
   "source": [
    "Of course, edges can have attributes too:"
   ]
  },
  {
   "cell_type": "code",
   "execution_count": null,
   "metadata": {},
   "outputs": [],
   "source": [
    "dG.edges[(1, 2)]['weight']=1\n",
    "dG.edges[(1, 3)]['weight']=3\n",
    "dG.edges[(3, 2)]['weight']=5\n",
    "dG.edges[(3, 4)]['weight']=10\n",
    "dG.edges[(4, 3)]['weight']=0.5"
   ]
  },
  {
   "cell_type": "code",
   "execution_count": null,
   "metadata": {},
   "outputs": [],
   "source": [
    "# see them\n",
    "dG.edges.data()"
   ]
  },
  {
   "cell_type": "markdown",
   "metadata": {},
   "source": [
    "Let me add another attribute conditional on another attribute:"
   ]
  },
  {
   "cell_type": "code",
   "execution_count": null,
   "metadata": {},
   "outputs": [],
   "source": [
    "# if\n",
    "{edge:'magenta' if weight<=1 else 'grey' for edge,weight in nx.get_edge_attributes(dG, \"weight\").items()}"
   ]
  },
  {
   "cell_type": "code",
   "execution_count": null,
   "metadata": {},
   "outputs": [],
   "source": [
    "# then\n",
    "colorEdges={edge:'magenta' if weight<=1 else 'yellow' for edge,weight in nx.get_edge_attributes(dG, \"weight\").items()}\n",
    "nx.set_edge_attributes(dG,values=colorEdges,name='color')"
   ]
  },
  {
   "cell_type": "code",
   "execution_count": null,
   "metadata": {},
   "outputs": [],
   "source": [
    "# see edges and attributes\n",
    "dG.edges.data()"
   ]
  },
  {
   "cell_type": "markdown",
   "metadata": {},
   "source": [
    "Let's use edge attributes:"
   ]
  },
  {
   "cell_type": "code",
   "execution_count": null,
   "metadata": {},
   "outputs": [],
   "source": [
    "# use the edge attributes\n",
    "# add labels to edges\n",
    "            \n",
    "pos = nx.spring_layout(dG) # position of the nodes\n",
    "\n",
    "nx.draw(dG,\n",
    "        pos, # using \"position\"\n",
    "        with_labels=True,\n",
    "        node_color=nx.get_node_attributes(dG, \"color\").values())\n",
    "\n",
    "# adding labels\n",
    "final_dG=nx.draw_networkx_edge_labels(dG,pos,edge_labels=nx.get_edge_attributes(dG,'weight'))"
   ]
  },
  {
   "cell_type": "markdown",
   "metadata": {},
   "source": [
    "We can also use:\n",
    "\n",
    "* The color of edges:"
   ]
  },
  {
   "cell_type": "code",
   "execution_count": null,
   "metadata": {},
   "outputs": [],
   "source": [
    "nx.get_edge_attributes(dG,'color').values()"
   ]
  },
  {
   "cell_type": "markdown",
   "metadata": {},
   "source": [
    "* the width of edges:"
   ]
  },
  {
   "cell_type": "code",
   "execution_count": null,
   "metadata": {},
   "outputs": [],
   "source": [
    "nx.get_edge_attributes(dG,'weight').values()"
   ]
  },
  {
   "cell_type": "markdown",
   "metadata": {},
   "source": [
    "See that here:"
   ]
  },
  {
   "cell_type": "code",
   "execution_count": null,
   "metadata": {},
   "outputs": [],
   "source": [
    "pos = nx.circular_layout(dG) \n",
    "\n",
    "# draw nodes first\n",
    "nx.draw_networkx_nodes(dG,pos,\n",
    "                       node_color=nx.get_node_attributes(dG,'color').values())\n",
    "# draw edges\n",
    "nx.draw_networkx_edges(dG, pos,width=list(nx.get_edge_attributes(dG,'weight').values()), # values as list\n",
    "                       edge_color= nx.get_edge_attributes(dG,'color').values())\n",
    "# draw node labels\n",
    "nx.draw_networkx_labels(dG, pos)\n",
    "\n",
    "final_dG=nx.draw_networkx_edge_labels(dG,pos,label_pos=0.25,\n",
    "                               edge_labels=nx.get_edge_attributes(dG,'weight'))"
   ]
  },
  {
   "cell_type": "markdown",
   "metadata": {},
   "source": [
    "## The bipartite network\n",
    "\n",
    "This is a different way to see a relationship. Think about _being an actor_ in a film:\n",
    "\n",
    "* These would be the ones acting:"
   ]
  },
  {
   "cell_type": "code",
   "execution_count": null,
   "metadata": {},
   "outputs": [],
   "source": [
    "actor=['Leonardo DiCaprio', 'Tom Hanks', 'Tom Hanks', 'Leonardo DiCaprio', 'Al Pacino', 'Matt Damon',\n",
    " 'Christian Bale', 'Robert De Niro', 'Al Pacino', 'Dustin Hoffman', 'Dustin Hoffman', 'Jack Nicholson',\n",
    " 'Christian Bale', 'Jack Nicholson', 'Matt Damon', 'Leonardo DiCaprio', 'Tom Hardy', 'Robert De Niro',\n",
    " 'Robin Williams', 'Tom Hardy', 'Robin Williams', 'Robin Williams', 'Christian Bale', 'Leonardo DiCaprio',\n",
    " 'Morgan Freeman', 'Morgan Freeman','Robert De Niro', 'Al Pacino','Robert De Niro', 'Al Pacino']"
   ]
  },
  {
   "cell_type": "markdown",
   "metadata": {},
   "source": [
    "* These would be the movies:"
   ]
  },
  {
   "cell_type": "code",
   "execution_count": null,
   "metadata": {},
   "outputs": [],
   "source": [
    "movie=['The Departed', 'Saving Private Ryan', 'Catch Me If You Can', 'The Revenant',\n",
    " 'The Godfather Part II', 'Good Will Hunting', 'The Dark Knight Rises', 'Awakenings', 'Insomnia',\n",
    " 'Empire of the Sun', 'Catch Me If You Can', 'The Bucket List', 'Batman Begins', 'The Departed', 'Saving Private Ryan',\n",
    " 'Catch Me If You Can', 'The Revenant', 'The Godfather Part II', 'Good Will Hunting',\n",
    " 'The Dark Knight Rises', 'Awakenings', 'Insomnia', 'Empire of the Sun', 'Catch Me If You Can',\n",
    " 'The Bucket List', 'Batman Begins','The Irishman','The Irishman','Heat','Heat']"
   ]
  },
  {
   "cell_type": "markdown",
   "metadata": {},
   "source": [
    "We can make pairs like this:"
   ]
  },
  {
   "cell_type": "code",
   "execution_count": null,
   "metadata": {},
   "outputs": [],
   "source": [
    "actor_movie=[('Leonardo DiCaprio', 'The Departed'),\n",
    " ('Tom Hanks', 'Saving Private Ryan'),\n",
    " ('Tom Hanks', 'Catch Me If You Can'),\n",
    " ('Leonardo DiCaprio', 'The Revenant'),\n",
    " ('Al Pacino', 'The Godfather Part II'),\n",
    " ('Matt Damon', 'Good Will Hunting'),\n",
    " ('Christian Bale', 'The Dark Knight Rises'),\n",
    " ('Robert De Niro', 'Awakenings'),\n",
    " ('Al Pacino', 'Insomnia'),\n",
    " ('Dustin Hoffman', 'Empire of the Sun'),\n",
    " ('Dustin Hoffman', 'Catch Me If You Can'),\n",
    " ('Jack Nicholson', 'The Bucket List'),\n",
    " ('Christian Bale', 'Batman Begins'),\n",
    " ('Jack Nicholson', 'The Departed'),\n",
    " ('Matt Damon', 'Saving Private Ryan'),\n",
    " ('Leonardo DiCaprio', 'Catch Me If You Can'),\n",
    " ('Tom Hardy', 'The Revenant'),\n",
    " ('Robert De Niro', 'The Godfather Part II'),\n",
    " ('Robin Williams', 'Good Will Hunting'),\n",
    " ('Tom Hardy', 'The Dark Knight Rises'),\n",
    " ('Robin Williams', 'Awakenings'),\n",
    " ('Robin Williams', 'Insomnia'),\n",
    " ('Christian Bale', 'Empire of the Sun'),\n",
    " ('Leonardo DiCaprio', 'Catch Me If You Can'),\n",
    " ('Morgan Freeman', 'The Bucket List'),\n",
    " ('Morgan Freeman', 'Batman Begins'),\n",
    "('Robert De Niro', 'Heat'),\n",
    " ('Al Pacino', 'Heat'),\n",
    "('Robert De Niro', 'The Irishman'),\n",
    " ('Al Pacino', 'The Irishman')]\n",
    "\n",
    "# here\n",
    "actor_movie"
   ]
  },
  {
   "cell_type": "markdown",
   "metadata": {},
   "source": [
    "The previous list of pairs look like edges. Then, let's make and draw a network:"
   ]
  },
  {
   "cell_type": "code",
   "execution_count": null,
   "metadata": {},
   "outputs": [],
   "source": [
    "# create DIRECTED graph\n",
    "dG_actmovie = nx.DiGraph()\n",
    "\n",
    "# create nodes and edges\n",
    "dG_actmovie.add_edges_from(actor_movie)\n",
    "\n",
    "# drawing\n",
    "nx.draw_circular(dG_actmovie,with_labels=True,node_color='white',edgecolors='black')"
   ]
  },
  {
   "cell_type": "markdown",
   "metadata": {},
   "source": [
    "You are creating a graph but it will not be useful. \n",
    "\n",
    "When you have a structure 'childNode'->'parentNode', you have a **bipartite graph**. Let me show you how to create one:"
   ]
  },
  {
   "cell_type": "code",
   "execution_count": null,
   "metadata": {},
   "outputs": [],
   "source": [
    "from networkx.algorithms import bipartite \n",
    "\n",
    "# this is not new\n",
    "bp_actmovie = nx.Graph()\n",
    "\n",
    "# this is new:\n",
    "bp_actmovie.add_nodes_from(actor, bipartite=0) # Add the node attribute \"bipartite\"\n",
    "bp_actmovie.add_nodes_from(movie, bipartite=1)\n",
    "\n",
    "# this is not new\n",
    "bp_actmovie.add_edges_from(actor_movie)"
   ]
  },
  {
   "cell_type": "markdown",
   "metadata": {},
   "source": [
    "We have a a graph. It seems not different:"
   ]
  },
  {
   "cell_type": "code",
   "execution_count": null,
   "metadata": {},
   "outputs": [],
   "source": [
    "bp_actmovie"
   ]
  },
  {
   "cell_type": "markdown",
   "metadata": {},
   "source": [
    "But the **bipartite** from **networkx.algorithms** will prove useful:"
   ]
  },
  {
   "cell_type": "markdown",
   "metadata": {},
   "source": [
    "* Differentiate the node roles in the bipartite graph:"
   ]
  },
  {
   "cell_type": "code",
   "execution_count": null,
   "metadata": {},
   "outputs": [],
   "source": [
    "childNode,parentNode = bipartite.sets(bp_actmovie)"
   ]
  },
  {
   "cell_type": "code",
   "execution_count": null,
   "metadata": {},
   "outputs": [],
   "source": [
    "parentNode"
   ]
  },
  {
   "cell_type": "code",
   "execution_count": null,
   "metadata": {},
   "outputs": [],
   "source": [
    "childNode"
   ]
  },
  {
   "cell_type": "markdown",
   "metadata": {},
   "source": [
    "* Draw a bipartite graph"
   ]
  },
  {
   "cell_type": "code",
   "execution_count": null,
   "metadata": {},
   "outputs": [],
   "source": [
    "# remember\n",
    "nx.get_node_attributes(bp_actmovie,'bipartite')"
   ]
  },
  {
   "cell_type": "markdown",
   "metadata": {},
   "source": [
    "Assign color to node:"
   ]
  },
  {
   "cell_type": "code",
   "execution_count": null,
   "metadata": {},
   "outputs": [],
   "source": [
    "# dict saved a 'colorDict'\n",
    "colorNodes={node:'yellow' if bp==0 else 'pink' for node,bp in nx.get_node_attributes(bp_actmovie, \"bipartite\").items()}\n",
    "nx.set_node_attributes(bp_actmovie, colorNodes, \"color\")"
   ]
  },
  {
   "cell_type": "markdown",
   "metadata": {},
   "source": [
    "Draw the graph:"
   ]
  },
  {
   "cell_type": "code",
   "execution_count": null,
   "metadata": {},
   "outputs": [],
   "source": [
    "# this is new\n",
    "pos = nx.bipartite_layout(bp_actmovie, childNode,align='horizontal',aspect_ratio=1)\n",
    "\n",
    "# not new\n",
    "nx.draw(bp_actmovie, pos=pos, with_labels=True, node_color = nx.get_node_attributes(bp_actmovie,'color').values())"
   ]
  },
  {
   "cell_type": "markdown",
   "metadata": {},
   "source": [
    "The above is difficult to understand, we could do some changes:"
   ]
  },
  {
   "cell_type": "code",
   "execution_count": null,
   "metadata": {},
   "outputs": [],
   "source": [
    "nx.draw(bp_actmovie, pos,node_color = nx.get_node_attributes(bp_actmovie,'color').values())\n",
    "\n",
    "# this is new\n",
    "text =nx.draw_networkx_labels(bp_actmovie, pos=pos, font_size=7)\n",
    "for _, t in text.items():\n",
    "    t.set_rotation(45) "
   ]
  },
  {
   "cell_type": "markdown",
   "metadata": {},
   "source": [
    "The most important: project the bipartite into a regular graph:"
   ]
  },
  {
   "cell_type": "code",
   "execution_count": null,
   "metadata": {},
   "outputs": [],
   "source": [
    "actors_proyected=bipartite.weighted_projected_graph(bp_actmovie, childNode)\n",
    "actors_proyected.edges.data()"
   ]
  },
  {
   "cell_type": "markdown",
   "metadata": {},
   "source": [
    "Now, we can see relationships between actors, based on previous appearances:"
   ]
  },
  {
   "cell_type": "code",
   "execution_count": null,
   "metadata": {},
   "outputs": [],
   "source": [
    "nx.draw(actors_proyected,with_labels=True)"
   ]
  },
  {
   "cell_type": "markdown",
   "metadata": {},
   "source": [
    "Here, you can see the edge width base on weight attribute:"
   ]
  },
  {
   "cell_type": "code",
   "execution_count": null,
   "metadata": {},
   "outputs": [],
   "source": [
    "pos = nx.circular_layout(actors_proyected) \n",
    "# draw nodes first\n",
    "nx.draw_networkx_nodes(actors_proyected,pos)\n",
    "# draw edges\n",
    "nx.draw_networkx_edges(actors_proyected,pos, \n",
    "                       width=list(nx.get_edge_attributes(actors_proyected,'weight').values()))\n",
    "# draw node labels\n",
    "nx.draw_networkx_labels(actors_proyected, pos)\n",
    "\n",
    "nx.draw_networkx_edge_labels(actors_proyected,pos,label_pos=0.25,\n",
    "                               edge_labels=nx.get_edge_attributes(actors_proyected,'weight'));"
   ]
  },
  {
   "cell_type": "markdown",
   "metadata": {},
   "source": [
    "# Reading from files\n",
    "\n",
    "Few times we will input data from the keyboard as we did above; but upload them from an external file. \n",
    "\n",
    "I have the same data we were using above in spreadsheets; including attributes for the  data that will create the directed graph:"
   ]
  },
  {
   "cell_type": "code",
   "execution_count": null,
   "metadata": {},
   "outputs": [],
   "source": [
    "from IPython.display import IFrame\n",
    "IFrame(\"https://docs.google.com/spreadsheets/d/e/2PACX-1vQvLe4eaHdN5QbzXTodOVynN5oW5st_d7_fmaWHmrlUcvopi2kR2P0j0Q96C8r0W6JcdOPXOzVfIoSD/pubhtml\",550,350)"
   ]
  },
  {
   "cell_type": "markdown",
   "metadata": {},
   "source": [
    "What do we have here:\n",
    "\n",
    "* **G** was undirected, now it  will be created from  **edgelist_u** OR **adjacency_u**.\n",
    "* **dG** was directed, now it  will be created from  **edgelist_d** OR **adjacency_d**.\n",
    "* **bp_actmovie**, now it  will be created from  **bipartite**.\n",
    "\n",
    "Notice also that we added attributes to dG, for the nodes and the edges. The edges attributes are anoter column in the edgelist; while those values are written in the adjacency matrix itself. The attributes for the nodes ('sex') are in another table **attributes_d**. As you see, adjacency matrices are not good to store edge attributes beside the weight. "
   ]
  },
  {
   "cell_type": "markdown",
   "metadata": {},
   "source": [
    "All those tables are in an excel file, which we can open as data frames.\n",
    "\n",
    "* The data to replicate **G**:"
   ]
  },
  {
   "cell_type": "code",
   "execution_count": null,
   "metadata": {},
   "outputs": [],
   "source": [
    "# reading in\n",
    "import pandas as pd\n",
    "LinkToData=\"https://github.com/DACSS-CSSmeths/Networks_intro/raw/refs/heads/main/graphdata/graphFormats.xlsx\"\n",
    "edgelist_u = pd.read_excel(LinkToData,\n",
    "                           sheet_name='edgelist_u') # name of the sheet\n",
    "\n",
    "# see the data frame\n",
    "edgelist_u"
   ]
  },
  {
   "cell_type": "markdown",
   "metadata": {},
   "source": [
    "Networkx can creat a network if your data frame has those columns names (source and target):"
   ]
  },
  {
   "cell_type": "code",
   "execution_count": null,
   "metadata": {},
   "outputs": [],
   "source": [
    "graph_edgelist_u=nx.from_pandas_edgelist(edgelist_u)"
   ]
  },
  {
   "cell_type": "markdown",
   "metadata": {},
   "source": [
    "We may open the adjacency matrix the same way:"
   ]
  },
  {
   "cell_type": "code",
   "execution_count": null,
   "metadata": {},
   "outputs": [],
   "source": [
    "adjacency_u = pd.read_excel(LinkToData,\n",
    "                            index_col=0, # VERY IMPORTANT!!!!!!!!!!!!!!!!!\n",
    "                            sheet_name='adjacency_u') \n",
    "# see the data frame\n",
    "adjacency_u"
   ]
  },
  {
   "cell_type": "markdown",
   "metadata": {},
   "source": [
    "And here, we turn it into a graph:"
   ]
  },
  {
   "cell_type": "code",
   "execution_count": null,
   "metadata": {},
   "outputs": [],
   "source": [
    "graph_adjacency_u = nx.from_pandas_adjacency(adjacency_u)"
   ]
  },
  {
   "cell_type": "markdown",
   "metadata": {},
   "source": [
    "* The data to replicate **dG**:"
   ]
  },
  {
   "cell_type": "code",
   "execution_count": null,
   "metadata": {},
   "outputs": [],
   "source": [
    "edgelist_d = pd.read_excel(LinkToData,sheet_name='edgelist_d') \n",
    "edgelist_d"
   ]
  },
  {
   "cell_type": "code",
   "execution_count": null,
   "metadata": {},
   "outputs": [],
   "source": [
    "adjacency_d = pd.read_excel(LinkToData,sheet_name='adjacency_d',index_col=0) \n",
    "adjacency_d"
   ]
  },
  {
   "cell_type": "markdown",
   "metadata": {},
   "source": [
    "Now, turning those data frames into graphs:"
   ]
  },
  {
   "cell_type": "code",
   "execution_count": null,
   "metadata": {},
   "outputs": [],
   "source": [
    "graph_edgelist_d=nx.from_pandas_edgelist(edgelist_d,edge_attr=True,\n",
    "                                         create_using=nx.DiGraph) # here!!\n",
    "# see edges\n",
    "graph_edgelist_d.edges.data()"
   ]
  },
  {
   "cell_type": "code",
   "execution_count": null,
   "metadata": {},
   "outputs": [],
   "source": [
    "graph_adjacency_d = nx.from_pandas_adjacency(adjacency_d,\n",
    "                                             create_using=nx.DiGraph) # here!!\n",
    "graph_adjacency_d.edges.data()"
   ]
  },
  {
   "cell_type": "markdown",
   "metadata": {},
   "source": [
    "Here, you see what I meant about the advantage of edgelists to represent attributes over adjacency matrices."
   ]
  },
  {
   "cell_type": "markdown",
   "metadata": {},
   "source": [
    "Above, I showed you that the edge attributes were included. \n",
    "\n",
    "How do we add the attributes to the nodes?\n",
    "\n",
    "Let's pick one graph, _graph_adjacency_d_, to add the node attributes:"
   ]
  },
  {
   "cell_type": "code",
   "execution_count": null,
   "metadata": {},
   "outputs": [],
   "source": [
    "graph_adjacency_d.nodes.data()"
   ]
  },
  {
   "cell_type": "code",
   "execution_count": null,
   "metadata": {},
   "outputs": [],
   "source": [
    "# read the table with attributes\n",
    "attr_d=pd.read_excel(LinkToData,sheet_name='attributes_d') \n",
    "attr_d"
   ]
  },
  {
   "cell_type": "markdown",
   "metadata": {},
   "source": [
    "We can build a dictionary of attributes as usual:"
   ]
  },
  {
   "cell_type": "code",
   "execution_count": null,
   "metadata": {},
   "outputs": [],
   "source": [
    "{n:s for n,s in zip(attr_d.node,attr_d.sex)}"
   ]
  },
  {
   "cell_type": "markdown",
   "metadata": {},
   "source": [
    "So this is the way!"
   ]
  },
  {
   "cell_type": "code",
   "execution_count": null,
   "metadata": {},
   "outputs": [],
   "source": [
    "attrDic_sex={n:s for n,s in zip(attr_d.node,attr_d.sex)}\n",
    "attrDic_col={n:s for n,s in zip(attr_d.node,attr_d.color)}\n",
    "nx.set_node_attributes(graph_adjacency_d,attrDic_col , \"sex\")\n",
    "nx.set_node_attributes(graph_adjacency_d,attrDic_sex , \"color\")"
   ]
  },
  {
   "cell_type": "markdown",
   "metadata": {},
   "source": [
    "Ready:"
   ]
  },
  {
   "cell_type": "code",
   "execution_count": null,
   "metadata": {},
   "outputs": [],
   "source": [
    "graph_adjacency_d.nodes.data()"
   ]
  },
  {
   "cell_type": "markdown",
   "metadata": {},
   "source": [
    "Up to here:\n",
    "\n",
    "* We created undirected graph **G** by typing the nodes and edges. We created the same graph in two ways by reading data from a link, using edgelist and an adjacency matrix; we named them **graph_edgelist_u** and **graph_adjacency_u**, respectively.\n",
    "* We created undirected graph **dG** by typing the nodes and edges. We created the same graph in two ways by reading data from a link, using edgelist and an adjacency matrix; we named them **graph_edgelist_d** and **graph_adjacency_d**, respectively."
   ]
  },
  {
   "cell_type": "markdown",
   "metadata": {},
   "source": [
    "* The data to replicate **bipartite**: This may need some work.\n",
    "\n",
    "In general, the data may come like this:"
   ]
  },
  {
   "cell_type": "code",
   "execution_count": null,
   "metadata": {},
   "outputs": [],
   "source": [
    "graph_bp = pd.read_excel(LinkToData,\n",
    "                         sheet_name='bipartite') \n",
    "\n",
    "graph_bp"
   ]
  },
  {
   "cell_type": "markdown",
   "metadata": {},
   "source": [
    "To follow the same steps as before, notice 'graph_bp.cast' is a column (series):"
   ]
  },
  {
   "cell_type": "code",
   "execution_count": null,
   "metadata": {},
   "outputs": [],
   "source": [
    "graph_bp.cast"
   ]
  },
  {
   "cell_type": "code",
   "execution_count": null,
   "metadata": {},
   "outputs": [],
   "source": [
    "# a cell\n",
    "graph_bp.cast[0]"
   ]
  },
  {
   "cell_type": "code",
   "execution_count": null,
   "metadata": {},
   "outputs": [],
   "source": [
    "# the previous as list\n",
    "\n",
    "graph_bp.cast[0].split(', ')"
   ]
  },
  {
   "cell_type": "markdown",
   "metadata": {},
   "source": [
    "Here, the column with each cell as a list:"
   ]
  },
  {
   "cell_type": "code",
   "execution_count": null,
   "metadata": {},
   "outputs": [],
   "source": [
    "graph_bp.cast.str.split(',')"
   ]
  },
  {
   "cell_type": "markdown",
   "metadata": {},
   "source": [
    "Now, notice the magic of **explode()**:"
   ]
  },
  {
   "cell_type": "code",
   "execution_count": null,
   "metadata": {},
   "outputs": [],
   "source": [
    "graph_bp.cast.str.split(',').explode()"
   ]
  },
  {
   "cell_type": "markdown",
   "metadata": {},
   "source": [
    "The best part is that the indexes are kept when 'exploding' the series of lists. The pandas **concat()** will use that this way:"
   ]
  },
  {
   "cell_type": "code",
   "execution_count": null,
   "metadata": {},
   "outputs": [],
   "source": [
    "data_forBP=pd.concat([graph_bp.movie,\n",
    "                      graph_bp.cast.str.split(', ').explode()],axis=1)\n",
    "data_forBP"
   ]
  },
  {
   "cell_type": "markdown",
   "metadata": {},
   "source": [
    "Now, we have the two lists of nodes:"
   ]
  },
  {
   "cell_type": "code",
   "execution_count": null,
   "metadata": {},
   "outputs": [],
   "source": [
    "actors_file=data_forBP.cast.to_list()\n",
    "movies_file=data_forBP.movie.to_list()"
   ]
  },
  {
   "cell_type": "markdown",
   "metadata": {},
   "source": [
    "And the edges:"
   ]
  },
  {
   "cell_type": "code",
   "execution_count": null,
   "metadata": {},
   "outputs": [],
   "source": [
    "actor_movie_file=[(a,m) for a,m in zip(actors_file,movies_file)]"
   ]
  },
  {
   "cell_type": "code",
   "execution_count": null,
   "metadata": {},
   "outputs": [],
   "source": [
    "bp_actmovie_file = nx.Graph()\n",
    "bp_actmovie_file.add_nodes_from(actors_file, bipartite=0) \n",
    "bp_actmovie_file.add_nodes_from(movies_file, bipartite=1)\n",
    "\n",
    "bp_actmovie_file.add_edges_from(actor_movie_file)\n",
    "childNode_file,parentNode_file = bipartite.sets(bp_actmovie_file)"
   ]
  },
  {
   "cell_type": "markdown",
   "metadata": {},
   "source": [
    "Let's see the plot:"
   ]
  },
  {
   "cell_type": "code",
   "execution_count": null,
   "metadata": {},
   "outputs": [],
   "source": [
    "colorNodes={node:'yellow' if bp==0 else 'pink' for node,bp in nx.get_node_attributes(bp_actmovie_file, \"bipartite\").items()}\n",
    "nx.set_node_attributes(bp_actmovie_file, colorNodes, \"color\")\n",
    "pos = nx.bipartite_layout(bp_actmovie_file, childNode,align='horizontal',aspect_ratio=1)\n",
    "nx.draw(bp_actmovie_file, pos,node_color = nx.get_node_attributes(bp_actmovie_file,'color').values())\n",
    "text =nx.draw_networkx_labels(bp_actmovie_file, pos=pos, font_size=7)\n",
    "for _, t in text.items():\n",
    "    t.set_rotation(45) "
   ]
  },
  {
   "cell_type": "markdown",
   "metadata": {},
   "source": [
    "The most important: getting a network of the actors ('children' set): "
   ]
  },
  {
   "cell_type": "code",
   "execution_count": null,
   "metadata": {},
   "outputs": [],
   "source": [
    "actors_proyected_file=bipartite.weighted_projected_graph(bp_actmovie_file, childNode)\n",
    "nx.draw(actors_proyected_file,with_labels=True)"
   ]
  },
  {
   "cell_type": "markdown",
   "metadata": {},
   "source": [
    "Remember we have weigths in the edges:"
   ]
  },
  {
   "cell_type": "code",
   "execution_count": null,
   "metadata": {},
   "outputs": [],
   "source": [
    "actors_proyected_file.edges.data()"
   ]
  },
  {
   "cell_type": "code",
   "execution_count": null,
   "metadata": {},
   "outputs": [],
   "source": [
    "pos = nx.circular_layout(actors_proyected_file) \n",
    "# draw nodes first\n",
    "nx.draw_networkx_nodes(actors_proyected_file,pos)\n",
    "# draw edges\n",
    "nx.draw_networkx_edges(actors_proyected_file,pos, \n",
    "                       width=list(nx.get_edge_attributes(actors_proyected_file,'weight').values()))\n",
    "# draw node labels\n",
    "nx.draw_networkx_labels(actors_proyected_file, pos)\n",
    "\n",
    "nx.draw_networkx_edge_labels(actors_proyected_file,pos,label_pos=0.25,\n",
    "                               edge_labels=nx.get_edge_attributes(actors_proyected_file,'weight'));"
   ]
  },
  {
   "cell_type": "markdown",
   "metadata": {},
   "source": [
    "### Exporting"
   ]
  },
  {
   "cell_type": "markdown",
   "metadata": {},
   "source": [
    "You should always export a graph once it is created, in order for a graph to be opne on a different tool:"
   ]
  },
  {
   "cell_type": "code",
   "execution_count": null,
   "metadata": {},
   "outputs": [],
   "source": [
    "nx.write_gml(G, \"css_G.gml\")\n",
    "nx.write_gml(dG, \"css_dG.gml\")\n",
    "nx.write_gml(actors_proyected, \"actors_dG.gml\")"
   ]
  }
 ],
 "metadata": {
  "hide_input": false,
  "kernelspec": {
   "display_name": "Python 3 (ipykernel)",
   "language": "python",
   "name": "python3"
  },
  "language_info": {
   "codemirror_mode": {
    "name": "ipython",
    "version": 3
   },
   "file_extension": ".py",
   "mimetype": "text/x-python",
   "name": "python",
   "nbconvert_exporter": "python",
   "pygments_lexer": "ipython3",
   "version": "3.10.16"
  }
 },
 "nbformat": 4,
 "nbformat_minor": 4
}
